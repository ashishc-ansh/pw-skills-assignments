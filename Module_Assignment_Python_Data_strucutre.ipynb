{
  "nbformat": 4,
  "nbformat_minor": 0,
  "metadata": {
    "colab": {
      "provenance": []
    },
    "kernelspec": {
      "name": "python3",
      "display_name": "Python 3"
    },
    "language_info": {
      "name": "python"
    }
  },
  "cells": [
    {
      "cell_type": "code",
      "execution_count": null,
      "metadata": {
        "id": "cQzJUDQXhTEL"
      },
      "outputs": [],
      "source": []
    },
    {
      "cell_type": "markdown",
      "source": [
        "Data Types and Structures Questions\n",
        "\n",
        "1. What are data structures, and why are they important\n",
        "- Data structures are specialized formats for organizing, storing and accessing collection of data\n",
        "- They provie eifficent way to manage information based on its characteristics and intended use.\n",
        "-Choosing right data structure impacts efficiency and performance of program\n",
        "- Easy data manipulation, optimize searching and sorting\n",
        "- Conserve memory use\n",
        "\n",
        "\n",
        "2.  Explain the difference between mutable and immutable data types with examples\n",
        "- Mutable data can be changed whereas immutable data cannot be changed\n",
        "- Mutables : Lists\n",
        "e.g List1 = [\"ashish\", \"ansh\", \"swaraj\", \"rajveer\", \"ranveer\"]\n",
        "    List1[2]=\"Komal\"\n",
        "    List1 = [\"ashish\", \"ansh\", \"Komal\", \"rajveer\", \"ranveer\"]\n",
        "-immutable data cannot be changed at all\n",
        "e.g. Tuples are immutable\n",
        "    tup1= (\"pwskills\", \"ansh\", 1, 5.55)\n",
        "    tup1[-1]=\"Data science\"\n",
        "    this will throw tuple object doesnt support item assignment\n",
        "\n",
        "\n",
        "3. What are the main differences between lists and tuples in Python\n",
        "- Lists are immutable, means there elements can be changed after creation, This allows for adding, removing or modifying elements.\n",
        "- Tuples are immutable, means once created, there elements cannot be changed\n",
        "\n",
        "\n",
        "4. Describe how dictionaries store data\n",
        "- Dictionaries are unordered collection of data, each key act as unique identifier to retrieve associated values.\n",
        "- Key and values can be strings, numbers etc\n",
        "- unlike other data types, dictionaries cannot be accessed with memory address but only with key and then we can retrieve associated data\n",
        "- e.g. student = {\"name\":\"Ash\", \"code\": 007}\n",
        "- student[\"name\"]  # this will print\n",
        "- Ash\n",
        "\n",
        "\n",
        "5. Why might you use a set instead of a list in Python\n",
        "- A set is a collection of unordered and unique values, sets do not allow duplicate elements, and orer of elements is not preserved.\n",
        "- A list is ordered collection of values that can contain duplicates.\n",
        "\n",
        "\n",
        "6. What is a string in Python, and how is it different from a list\n",
        "- A string is sequence of characters enclosed in single/double/triple quotes.\n",
        "- strings are immutable, means once created, they cannot be changed though each character in string can be accessed using indexing or slicing operation\n",
        "- A list is an ordered collection of elements, which can be of different data types. List are immutble and they can be modified after creation. Elements in a list can be accessed using indexing or slicing operations\n",
        "\n",
        "\n",
        "7. How do tuples ensure data integrity in Python\n",
        "- Tuples can store heterogeneous data types, making them ideal for grouping related but distinct pieces of information. Their immutability ensures that the grouped data remains intact and logically connected.\n",
        "e.g.person = (\"Alice\", 30, \"Engineer\")\n",
        "\n",
        "\n",
        "8. What is a hash table, and how does it relate to dictionaries in Python\n",
        "- A hash table is a data structure that maps keys to values using a hash function. This function computes an index into an array of buckets or slots, from which the desired value can be found. Hash tables are widely used for their efficiency in performing insertions, deletions, and lookups.\n",
        "- A hash function translates keys into array indices. A good hash function distributes keys uniformly across the array to minimize collisions and ensure quick lookup speeds.\n",
        "- Common methods include:\n",
        "- Hashing by Division: Uses the remainder of the key divided by the array size.\n",
        "- Hashing by Multiplication: Multiplies the key by a constant and uses the fractional part to determine the index\n",
        "\n",
        "\n",
        "9. Can lists contain different data types in Python\n",
        "- Yes, list can contain mix of integers, floats, strings, booleans and objects or even lists\n",
        "\n",
        "\n",
        "10. Explain why strings are immutable in Python\n",
        "- Python uses a technique called string interning, where identical strings are stored only once in memory. This reduces memory usage and improves performance.\n",
        "- If strings were mutable, modifying one string would inadvertently affect all references to that string, breaking this optimization.\n",
        "\n",
        "\n",
        "11. What advantages do dictionaries offer over lists for certain tasks\n",
        "- The primary advantage of dictionaries over lists is their ability to provide fast value retrieval using unique keys. This results in significantly faster data access, especially when dealing with large datasets\n",
        "\n",
        "\n",
        "12. How do sets handle duplicate values in Python\n",
        "- In Python, a set is an unordered collection of unique elements. This means that a set cannot contain duplicate elements. When you try to add a duplicate element to a set, it will be ignored, and the set will remain unchanged.\n",
        "\n",
        "13. Describe a scenario where using a tuple would be preferable over a list\n",
        "- When we want to ensure that data is not changed accidentally. Tuples being immutable do not allow any changes in its data.\n",
        "- When we want faster access to data that will not change as tuples are faster than lists.\n",
        "- When we want to use the data as a key in a dictionary. Tuples can be used as keys in a dictionary, but lists cannot.\n",
        "- When we want to use the data as an element of a set. Tuples can be used as elements of a set, but lists cannot.\n",
        "e.g. t = (a,)\n",
        "t = tuple([1])\n",
        "\n",
        "\n",
        "14. How does the “in” keyword work differently for lists and dictionaries\n",
        "- The in operator uses different algorithms for lists and dictionaries.\n",
        "- For lists, it uses a search algorithm. As the list gets longer, the search time gets longer in direct proportion.\n",
        "- For dictionaries, Python uses an algorithm called a hashtable that has a remarkable property: the in operator takes about the same amount of time no matter how many items there are in a dictionary\n",
        "\n",
        "\n",
        "15. Can you modify the elements of a tuple? Explain why or why not\n",
        "- You cannot modify the elements of a tuple in Python because tuples are immutable. This means that once a tuple is created, its elements cannot be changed, added, or removed.\n",
        "- The design choice for immutability is primarily for efficiency, as it allows for optimizations in memory usage and performance. If you need to change a tuple, you must create a new tuple with the desired elements\n",
        "\n",
        "\n",
        "16. What is a nested dictionary, and give an example of its use case\n",
        "- A nested dictionary in Python is a dictionary inside another dictionary. This allows you to store complex data structures in a single dictionary. Each key in the outer dictionary can map to another dictionary, enabling hierarchical data storage.\n",
        "e.g people = {\n",
        "1: {'name': 'Raja', 'age': '27', 'sex': 'Male'},\n",
        "2: {'name': 'Rani', 'age': '22', 'sex': 'Female'}\n",
        "}\n",
        "print(people)\n",
        "\n",
        "\n",
        "17. Describe the time complexity of accessing elements in a dictionary\n",
        "- The time complexity of retrieving a value by its key in a dictionary is O(1). This is because dictionaries use a hash table internally which allows constant time lookup\n",
        "dict = {'a': 1, 'b': 2, 'c': 3}\n",
        "val = dict['b']\n",
        "print(val)\n",
        "Hash tables O(1) use the hash of the key to find the memory location which enables direct access.\n",
        "\n",
        "\n",
        "18. In what situations are lists preferred over dictionaries\n",
        "- For quick data look-ups, configurations, or caches, favor dictionaries.\n",
        "- For ordered collections and sequence operations, such as maintaining a stack or queue, lists are more suitable.\n",
        "\n",
        "\n",
        "19. Why are dictionaries considered unordered, and how does that affect data retrieval\n",
        "- cant pull info out based on index like lists.\n",
        "- Dictionaries use keys, so it doesnt actually matter where the item is in the dictionary, you search with keys.\n",
        "Dict['job']['pay']\n",
        "Would look for the key 'job' then inside job it would look for the key 'pay', and whatever 'pay's value is is what would be returned\n",
        "\n",
        "\n",
        "20. Explain the difference between a list and a dictionary in terms of data retrieval.\n",
        "- A list is a collection of ordered elements that can be of multiple types. Lists are defined using square brackets [] or the list() function\n",
        "myList = [1, 2, 3, 4, 5, 6]\n",
        "myList.append(10) # Adds 10 to the list\n",
        "myList.extend([11, 12, 13]) # Adds multiple elements to the list\n",
        "- Lists provide faster performance for initialization, accessing elements, and iterating. However, searching for an element in a list has an average time complexity of O(n)\n",
        "- A dictionary is a collection of key-value pairs. Dictionaries are defined using curly braces {} or the dict() function\n",
        "myDict = {'Name': 'Geeks', 1: [1, 2, 3, 4]}\n",
        "myDict['Age'] = 25 # Adds a new key-value pair\n",
        "myDict.update({'Gender': 'Male'}) # Adds another key-value pair\n",
        "- Dictionaries allow random access to values using keys, which must be of an immutable data type (e.g., integers, strings, tuples). Dictionaries are also mutable, allowing you to add, modify, or remove key-value pairs. You can add elements using the assignment operator or the update() method\n",
        "- Dictionaries provide faster performance for lookups, insertions, and deletions due to their underlying hash table implementation. The average time complexity for these operations is O(1)\n"
      ],
      "metadata": {
        "id": "gL0CKcy0hk_s"
      }
    },
    {
      "cell_type": "markdown",
      "source": [],
      "metadata": {
        "id": "n-Ip0bzEhrVw"
      }
    },
    {
      "cell_type": "code",
      "source": [
        "# 1. Write a code to create a string with your name and print it\n",
        "a = input(\"Enter your name\")\n",
        "print(a)"
      ],
      "metadata": {
        "colab": {
          "base_uri": "https://localhost:8080/"
        },
        "id": "1genDcDQmzb-",
        "outputId": "20f8a35b-4863-4c80-e39b-4b099e11857c"
      },
      "execution_count": null,
      "outputs": [
        {
          "output_type": "stream",
          "name": "stdout",
          "text": [
            "Enter your nameashish\n",
            "ashish\n"
          ]
        }
      ]
    },
    {
      "cell_type": "code",
      "source": [
        "# 2. Write a code to find the length of the string \"Hello World\"\n",
        "print(len(\"Hello World\"))"
      ],
      "metadata": {
        "colab": {
          "base_uri": "https://localhost:8080/"
        },
        "id": "rQNZqbsbm66w",
        "outputId": "b4cc387f-76d9-4921-c89e-3bf51696cb6a"
      },
      "execution_count": null,
      "outputs": [
        {
          "output_type": "stream",
          "name": "stdout",
          "text": [
            "11\n"
          ]
        }
      ]
    },
    {
      "cell_type": "code",
      "source": [
        "# 3. Write a code to slice the first 3 characters from the string \"Python Programming\"\n",
        "str1 = \"Python Programming\"\n",
        "str1[:3]"
      ],
      "metadata": {
        "colab": {
          "base_uri": "https://localhost:8080/",
          "height": 35
        },
        "id": "4Ft0UYopnJjT",
        "outputId": "53481d1d-30a0-4ab9-acd3-3e08a7ac2c0c"
      },
      "execution_count": null,
      "outputs": [
        {
          "output_type": "execute_result",
          "data": {
            "text/plain": [
              "'Pyt'"
            ],
            "application/vnd.google.colaboratory.intrinsic+json": {
              "type": "string"
            }
          },
          "metadata": {},
          "execution_count": 5
        }
      ]
    },
    {
      "cell_type": "code",
      "source": [
        "# 4.  Write a code to convert the string \"hello\" to uppercase\n",
        "str2 = \"hello\"\n",
        "str2.upper()"
      ],
      "metadata": {
        "colab": {
          "base_uri": "https://localhost:8080/",
          "height": 35
        },
        "id": "w9e69RdunXZF",
        "outputId": "93f332f7-4251-4bb8-93a6-280edbb78c87"
      },
      "execution_count": null,
      "outputs": [
        {
          "output_type": "execute_result",
          "data": {
            "text/plain": [
              "'HELLO'"
            ],
            "application/vnd.google.colaboratory.intrinsic+json": {
              "type": "string"
            }
          },
          "metadata": {},
          "execution_count": 6
        }
      ]
    },
    {
      "cell_type": "code",
      "source": [
        "# 5.  Write a code to replace the word \"apple\" with \"orange\" in the string \"I like apple\"\n",
        "str3 = \"I like apple\"\n",
        "str3.replace(\"apple\",\"orange\")"
      ],
      "metadata": {
        "colab": {
          "base_uri": "https://localhost:8080/",
          "height": 35
        },
        "id": "VMRYHb2LnmFs",
        "outputId": "9f2fa7e2-8ea4-4f95-ea55-51bf2423285b"
      },
      "execution_count": null,
      "outputs": [
        {
          "output_type": "execute_result",
          "data": {
            "text/plain": [
              "'I like orange'"
            ],
            "application/vnd.google.colaboratory.intrinsic+json": {
              "type": "string"
            }
          },
          "metadata": {},
          "execution_count": 8
        }
      ]
    },
    {
      "cell_type": "code",
      "source": [
        "# 6.  Write a code to create a list with numbers 1 to 5 and print it\n",
        "list2 =[]\n",
        "i = 1\n",
        "while i < 6:\n",
        "  list2.append(i)\n",
        "  i = i+1\n",
        "print(list2)"
      ],
      "metadata": {
        "colab": {
          "base_uri": "https://localhost:8080/"
        },
        "id": "1iw_MMLLoPP1",
        "outputId": "e402be60-3b06-4336-a3d4-c000d99e50ff"
      },
      "execution_count": null,
      "outputs": [
        {
          "output_type": "stream",
          "name": "stdout",
          "text": [
            "[1, 2, 3, 4, 5]\n"
          ]
        }
      ]
    },
    {
      "cell_type": "code",
      "source": [
        "# 7.  Write a code to append the number 10 to the list [1, 2, 3, 4]\n",
        "list3 = [1, 2, 3, 4]\n",
        "list3.append(10)\n",
        "list3"
      ],
      "metadata": {
        "colab": {
          "base_uri": "https://localhost:8080/"
        },
        "id": "-mKBjQuTo0eF",
        "outputId": "222c5bf6-0417-4ad0-fcbd-8e0a158c807c"
      },
      "execution_count": null,
      "outputs": [
        {
          "output_type": "execute_result",
          "data": {
            "text/plain": [
              "[1, 2, 3, 4, 10]"
            ]
          },
          "metadata": {},
          "execution_count": 21
        }
      ]
    },
    {
      "cell_type": "code",
      "source": [
        "# 8.  Write a code to remove the number 3 from the list [1, 2, 3, 4, 5]\n",
        "list4 = [1, 2, 3, 4, 5]\n",
        "list4.pop(3)\n",
        "list4"
      ],
      "metadata": {
        "colab": {
          "base_uri": "https://localhost:8080/"
        },
        "id": "HbstWc23pPUi",
        "outputId": "1f34eb70-8c9d-4b93-8e3a-f0e4b702b3b7"
      },
      "execution_count": null,
      "outputs": [
        {
          "output_type": "execute_result",
          "data": {
            "text/plain": [
              "[1, 2, 3, 5]"
            ]
          },
          "metadata": {},
          "execution_count": 24
        }
      ]
    },
    {
      "cell_type": "code",
      "source": [
        "# 9.  Write a code to access the second element in the list ['a', 'b', 'c', 'd']\n",
        "list5 = ['a', 'b', 'c', 'd']\n",
        "list5[1]"
      ],
      "metadata": {
        "colab": {
          "base_uri": "https://localhost:8080/",
          "height": 35
        },
        "id": "KbtsG_zmqIwf",
        "outputId": "7110efe5-8272-4208-abfc-0d4ba104214a"
      },
      "execution_count": null,
      "outputs": [
        {
          "output_type": "execute_result",
          "data": {
            "text/plain": [
              "'b'"
            ],
            "application/vnd.google.colaboratory.intrinsic+json": {
              "type": "string"
            }
          },
          "metadata": {},
          "execution_count": 25
        }
      ]
    },
    {
      "cell_type": "code",
      "source": [
        "#10.  Write a code to reverse the list [10, 20, 30, 40, 50].\n",
        "list6 = [10, 20, 30, 40, 50]\n",
        "list6.reverse()\n",
        "list6"
      ],
      "metadata": {
        "colab": {
          "base_uri": "https://localhost:8080/"
        },
        "id": "_l03kWRDqZfa",
        "outputId": "dfb1c382-6876-454d-b808-e30c6b686f74"
      },
      "execution_count": null,
      "outputs": [
        {
          "output_type": "execute_result",
          "data": {
            "text/plain": [
              "[50, 40, 30, 20, 10]"
            ]
          },
          "metadata": {},
          "execution_count": 27
        }
      ]
    },
    {
      "cell_type": "code",
      "source": [
        "# 11. Write a code to create a tuple with the elements 100, 200, 300 and print it.\n",
        "tuple2 = (100, 200, 300)\n",
        "tuple2"
      ],
      "metadata": {
        "colab": {
          "base_uri": "https://localhost:8080/"
        },
        "id": "rDovXov1qijM",
        "outputId": "e5db6486-06d5-4189-edd9-0914d8fa9f50"
      },
      "execution_count": null,
      "outputs": [
        {
          "output_type": "execute_result",
          "data": {
            "text/plain": [
              "(100, 200, 300)"
            ]
          },
          "metadata": {},
          "execution_count": 33
        }
      ]
    },
    {
      "cell_type": "code",
      "source": [
        "# 12. Write a code to access the second-to-last element of the tuple ('red', 'green', 'blue', 'yellow').\n",
        "tuple3 = ('red', 'green', 'blue', 'yellow')\n",
        "tuple3[1:]"
      ],
      "metadata": {
        "colab": {
          "base_uri": "https://localhost:8080/"
        },
        "id": "86AjsE4ArtUr",
        "outputId": "238b3caf-5c12-491c-a32b-36acf44a5244"
      },
      "execution_count": null,
      "outputs": [
        {
          "output_type": "execute_result",
          "data": {
            "text/plain": [
              "('green', 'blue', 'yellow')"
            ]
          },
          "metadata": {},
          "execution_count": 35
        }
      ]
    },
    {
      "cell_type": "code",
      "source": [
        "# 13. Write a code to find the minimum number in the tuple (10, 20, 5, 15).\n",
        "tuple4 = (10, 20, 5, 15)\n",
        "min(tuple4)"
      ],
      "metadata": {
        "colab": {
          "base_uri": "https://localhost:8080/"
        },
        "id": "ZUYpY0lMsueh",
        "outputId": "0b42e845-9b65-4883-b084-b28a41d6229a"
      },
      "execution_count": null,
      "outputs": [
        {
          "output_type": "execute_result",
          "data": {
            "text/plain": [
              "5"
            ]
          },
          "metadata": {},
          "execution_count": 37
        }
      ]
    },
    {
      "cell_type": "code",
      "source": [
        "# 14. Write a code to find the index of the element \"cat\" in the tuple ('dog', 'cat', 'rabbit').\n",
        "tuple5 = ('dog', 'cat', 'rabbit')\n",
        "tuple5.index('cat')\n"
      ],
      "metadata": {
        "colab": {
          "base_uri": "https://localhost:8080/"
        },
        "id": "hGr2XFEgs5aA",
        "outputId": "d96847b3-b9ff-4250-a728-3c09053d7aa0"
      },
      "execution_count": null,
      "outputs": [
        {
          "output_type": "execute_result",
          "data": {
            "text/plain": [
              "1"
            ]
          },
          "metadata": {},
          "execution_count": 40
        }
      ]
    },
    {
      "cell_type": "code",
      "source": [
        "# 15. Write a code to create a tuple containing three different fruits and check if \"kiwi\" is in it.\n",
        "tuple6 = ('Mango', 'Banana', 'kiwi')\n",
        "'kiwi' in tuple6"
      ],
      "metadata": {
        "colab": {
          "base_uri": "https://localhost:8080/"
        },
        "id": "076a0eoDtJrM",
        "outputId": "d74e570c-82d9-41da-d27c-854f589833aa"
      },
      "execution_count": null,
      "outputs": [
        {
          "output_type": "execute_result",
          "data": {
            "text/plain": [
              "True"
            ]
          },
          "metadata": {},
          "execution_count": 41
        }
      ]
    },
    {
      "cell_type": "code",
      "source": [
        "# 16. Write a code to create a set with the elements 'a', 'b', 'c' and print it.\n",
        "set1 = {\"a\", \"b\", \"c\"}\n",
        "set1\n"
      ],
      "metadata": {
        "colab": {
          "base_uri": "https://localhost:8080/"
        },
        "id": "ec_5qZDHtj5G",
        "outputId": "a4199fca-53fd-45b1-9757-174c01fdf617"
      },
      "execution_count": null,
      "outputs": [
        {
          "output_type": "execute_result",
          "data": {
            "text/plain": [
              "{'a', 'b', 'c'}"
            ]
          },
          "metadata": {},
          "execution_count": 46
        }
      ]
    },
    {
      "cell_type": "code",
      "source": [
        "# 17. Write a code to clear all elements from the set {1, 2, 3, 4, 5}.\n",
        "set2 = {1, 2, 3, 4, 5}\n",
        "set2.clear()\n",
        "set2"
      ],
      "metadata": {
        "colab": {
          "base_uri": "https://localhost:8080/"
        },
        "id": "Ecy-4AO0t6hj",
        "outputId": "562d9c3c-6e00-4e25-8f37-e63081d7e071"
      },
      "execution_count": null,
      "outputs": [
        {
          "output_type": "execute_result",
          "data": {
            "text/plain": [
              "set()"
            ]
          },
          "metadata": {},
          "execution_count": 52
        }
      ]
    },
    {
      "cell_type": "code",
      "source": [
        "#  18. Write a code to remove the element 4 from the set {1, 2, 3, 4}.\n",
        "set3 = {1, 2, 3, 4}\n",
        "set3.remove(4)\n",
        "set3"
      ],
      "metadata": {
        "colab": {
          "base_uri": "https://localhost:8080/"
        },
        "id": "9yrwzYEOui1d",
        "outputId": "d34841f5-a03a-480b-8f61-fefc1dea4ca4"
      },
      "execution_count": null,
      "outputs": [
        {
          "output_type": "execute_result",
          "data": {
            "text/plain": [
              "{1, 2, 3}"
            ]
          },
          "metadata": {},
          "execution_count": 58
        }
      ]
    },
    {
      "cell_type": "code",
      "source": [
        "# 19. Write a code to find the union of two sets {1, 2, 3} and {3, 4, 5}.\n",
        "set4 = {1, 2, 3}\n",
        "set5 = {3, 4, 5}\n",
        "set4 | set5"
      ],
      "metadata": {
        "colab": {
          "base_uri": "https://localhost:8080/"
        },
        "id": "s0-mRgAKumwi",
        "outputId": "ff677d90-06bd-4ccc-babf-2c9432bd0621"
      },
      "execution_count": null,
      "outputs": [
        {
          "output_type": "execute_result",
          "data": {
            "text/plain": [
              "{1, 2, 3, 4, 5}"
            ]
          },
          "metadata": {},
          "execution_count": 59
        }
      ]
    },
    {
      "cell_type": "code",
      "source": [
        "# 20. Write a code to find the intersection of two sets {1, 2, 3} and {2, 3, 4}.\n",
        "set6 = {1, 2, 3}\n",
        "set7 = {2, 3, 4}\n",
        "set6 & set7"
      ],
      "metadata": {
        "colab": {
          "base_uri": "https://localhost:8080/"
        },
        "id": "1GSHdd4MvTPz",
        "outputId": "6357f0b8-573c-4ca0-ddde-f959ab3bd6e7"
      },
      "execution_count": null,
      "outputs": [
        {
          "output_type": "execute_result",
          "data": {
            "text/plain": [
              "{2, 3}"
            ]
          },
          "metadata": {},
          "execution_count": 60
        }
      ]
    },
    {
      "cell_type": "code",
      "source": [
        "# 21. Write a code to create a dictionary with the keys \"name\", \"age\", and \"city\", and print it.\n",
        "dict1 = {\"name\": \"Ansh\", \"age\":99, \"city\":\"Thane\"}\n",
        "\n",
        "for key, value in dict1.items():\n",
        "  print(f\"{key} {value}\")"
      ],
      "metadata": {
        "colab": {
          "base_uri": "https://localhost:8080/"
        },
        "id": "mM5GFO9hviDK",
        "outputId": "31d84dbc-518d-4372-dc0e-d08f4c36cfd7"
      },
      "execution_count": null,
      "outputs": [
        {
          "output_type": "stream",
          "name": "stdout",
          "text": [
            "name Ansh\n",
            "age 99\n",
            "city Thane\n"
          ]
        }
      ]
    },
    {
      "cell_type": "code",
      "source": [
        "# 22. Write a code to add a new key-value pair \"country\": \"USA\" to the dictionary {'name': 'John', 'age': 25}.\n",
        "dict2 = {'name': 'John', 'age': 25}\n",
        "dict2[\"country\"] =\"USA\"\n",
        "dict2"
      ],
      "metadata": {
        "colab": {
          "base_uri": "https://localhost:8080/"
        },
        "id": "lpgj8CrewGlu",
        "outputId": "ee8fd328-ab52-4013-8392-975a5c44e59a"
      },
      "execution_count": null,
      "outputs": [
        {
          "output_type": "execute_result",
          "data": {
            "text/plain": [
              "{'name': 'John', 'age': 25, 'country': 'USA'}"
            ]
          },
          "metadata": {},
          "execution_count": 67
        }
      ]
    },
    {
      "cell_type": "code",
      "source": [
        "# 23. Write a code to access the value associated with the key \"name\" in the dictionary {'name': 'Alice', 'age': 30}.\n",
        "dict3 = {'name': 'Alice', 'age': 30}\n",
        "dict3[\"name\"]"
      ],
      "metadata": {
        "colab": {
          "base_uri": "https://localhost:8080/",
          "height": 35
        },
        "id": "LRfAkMdbw9A_",
        "outputId": "71266ae2-91a1-4b39-acae-c0f097d564ad"
      },
      "execution_count": null,
      "outputs": [
        {
          "output_type": "execute_result",
          "data": {
            "text/plain": [
              "'Alice'"
            ],
            "application/vnd.google.colaboratory.intrinsic+json": {
              "type": "string"
            }
          },
          "metadata": {},
          "execution_count": 68
        }
      ]
    },
    {
      "cell_type": "code",
      "source": [
        "# 24. Write a code to remove the key \"age\" from the dictionary {'name': 'Bob', 'age': 22, 'city': 'New York'}.\n",
        "dict4 = {'name': 'Bob', 'age': 22, 'city': 'New York'}\n",
        "del dict4[\"age\"]\n",
        "dict4"
      ],
      "metadata": {
        "colab": {
          "base_uri": "https://localhost:8080/"
        },
        "id": "a8Ax14AmxptW",
        "outputId": "6d74d9b6-a5e4-4694-b827-36e736a88cca"
      },
      "execution_count": null,
      "outputs": [
        {
          "output_type": "execute_result",
          "data": {
            "text/plain": [
              "{'name': 'Bob', 'city': 'New York'}"
            ]
          },
          "metadata": {},
          "execution_count": 74
        }
      ]
    },
    {
      "cell_type": "code",
      "source": [
        "# 25. Write a code to check if the key \"city\" exists in the dictionary {'name': 'Alice', 'city': 'Paris'}.\n",
        "dict5 = {'name': 'Alice', 'city': 'Paris'}\n",
        "\"city\" in dict5"
      ],
      "metadata": {
        "colab": {
          "base_uri": "https://localhost:8080/"
        },
        "id": "i13ZqmgQx2dw",
        "outputId": "493697fa-8749-43a2-93fb-a7521998771b"
      },
      "execution_count": null,
      "outputs": [
        {
          "output_type": "execute_result",
          "data": {
            "text/plain": [
              "True"
            ]
          },
          "metadata": {},
          "execution_count": 75
        }
      ]
    },
    {
      "cell_type": "code",
      "source": [
        "# 26. Write a code to create a list, a tuple, and a dictionary, and print them all.\n",
        "list55 = [1, 2, 3, 4.4, \"ansh\", True]\n",
        "tuple55 = (1, 3, 4, \"ashish\", False)\n",
        "dict55 = {\"name\":\"Rajveer\", \"city\":\"Anagar\", \"std\":\"3rd std\"}\n",
        "print(list55)\n",
        "print(tuple55)\n",
        "print(dict55)"
      ],
      "metadata": {
        "colab": {
          "base_uri": "https://localhost:8080/"
        },
        "id": "m7ONxZUEyT5i",
        "outputId": "a0bcfbbd-6470-4a46-9625-9ce43bf4c47c"
      },
      "execution_count": null,
      "outputs": [
        {
          "output_type": "stream",
          "name": "stdout",
          "text": [
            "[1, 2, 3, 4.4, 'ansh', True]\n",
            "(1, 3, 4, 'ashish', False)\n",
            "{'name': 'Rajveer', 'city': 'Anagar', 'std': '3rd std'}\n"
          ]
        }
      ]
    },
    {
      "cell_type": "code",
      "source": [
        "# 27. Write a code to create a list of 5 random numbers between 1 and 100, sort it in ascending order, and print the\n",
        "list12 = [1, 55, 4, 25, 77]\n",
        "list12.sort()\n",
        "list12"
      ],
      "metadata": {
        "colab": {
          "base_uri": "https://localhost:8080/"
        },
        "id": "9YP2kOT_ymTZ",
        "outputId": "b6f12cf7-a8d6-4865-9b28-506838d4e0c6"
      },
      "execution_count": null,
      "outputs": [
        {
          "output_type": "execute_result",
          "data": {
            "text/plain": [
              "[1, 4, 25, 55, 77]"
            ]
          },
          "metadata": {},
          "execution_count": 84
        }
      ]
    },
    {
      "cell_type": "code",
      "source": [
        "# 28. Write a code to create a list with strings and print the element at the third index.\n",
        "list13 = [\"Ansh\", \"Rajveer\", \"Ranveer\", \"Ashish\", \"Komal\"]\n",
        "list13[3]"
      ],
      "metadata": {
        "colab": {
          "base_uri": "https://localhost:8080/",
          "height": 35
        },
        "id": "XeZLR34nzWu2",
        "outputId": "59ec6ad4-695d-409e-9d83-54377bb0e21c"
      },
      "execution_count": null,
      "outputs": [
        {
          "output_type": "execute_result",
          "data": {
            "text/plain": [
              "'Ashish'"
            ],
            "application/vnd.google.colaboratory.intrinsic+json": {
              "type": "string"
            }
          },
          "metadata": {},
          "execution_count": 86
        }
      ]
    },
    {
      "cell_type": "code",
      "source": [
        "# 29. Write a code to combine two dictionaries into one and print the result.\n",
        "dict6 = {'a': 1, 'b': 2, 'c': 3}\n",
        "dict7 = {'d': 4, 'e': 5, 'f': 6}\n",
        "combined_dict = {key: value for d in (dict6, dict7) for key, value in d.items()}\n",
        "print(combined_dict)"
      ],
      "metadata": {
        "id": "nw-5cy0n0gVM",
        "colab": {
          "base_uri": "https://localhost:8080/"
        },
        "outputId": "30fe6473-b573-49aa-bf7a-23af06d65e80"
      },
      "execution_count": null,
      "outputs": [
        {
          "output_type": "stream",
          "name": "stdout",
          "text": [
            "{'a': 1, 'b': 2, 'c': 3, 'd': 4, 'e': 5, 'f': 6}\n"
          ]
        }
      ]
    },
    {
      "cell_type": "code",
      "source": [
        "# 30. Write a code to convert a list of strings into a set\n",
        "string_list = [\"apple\", \"banana\", \"cherry\", \"apple\", \"banana\", \"Mango\"]\n",
        "string_set = set(string_list)\n",
        "print(string_set)"
      ],
      "metadata": {
        "id": "iJMftF451PuJ",
        "colab": {
          "base_uri": "https://localhost:8080/"
        },
        "outputId": "1b037bac-b36f-4ca4-ace6-315747ac047b"
      },
      "execution_count": null,
      "outputs": [
        {
          "output_type": "stream",
          "name": "stdout",
          "text": [
            "{'apple', 'banana', 'cherry', 'Mango'}\n"
          ]
        }
      ]
    },
    {
      "cell_type": "code",
      "source": [],
      "metadata": {
        "id": "K0vFxprzZpYq"
      },
      "execution_count": null,
      "outputs": []
    }
  ]
}