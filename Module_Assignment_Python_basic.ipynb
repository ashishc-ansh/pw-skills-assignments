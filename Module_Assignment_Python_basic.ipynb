{
  "nbformat": 4,
  "nbformat_minor": 0,
  "metadata": {
    "colab": {
      "provenance": []
    },
    "kernelspec": {
      "name": "python3",
      "display_name": "Python 3"
    },
    "language_info": {
      "name": "python"
    }
  },
  "cells": [
    {
      "cell_type": "code",
      "execution_count": null,
      "metadata": {
        "id": "xNGNm4JoFv0T"
      },
      "outputs": [],
      "source": []
    },
    {
      "cell_type": "markdown",
      "source": [
        "# Module3- Assignment: Python Basic"
      ],
      "metadata": {
        "id": "f1bFxBsRGC9Z"
      }
    },
    {
      "cell_type": "markdown",
      "source": [
        "1. what is Python, and why is it popular ?\n",
        "- Python is a programming lang that is easy to understand, write and famous among developers and programmers.\n",
        "- It is popular due indentation and minimal syntax making it easy to read and write.\n",
        "- It has 13k+ libraries to use, open-source, hude suport on forums and dev community. Dominance in AI and cross platforms\n",
        "\n",
        "\n",
        "2. What is an interpreter in Python\n",
        "- It is nothing but the program that reads and executes python code line by line, translate high level code into machine readable format.\n",
        "\n",
        "\n",
        "3. What are pre-defined keywords in Python\n",
        "- keywords are case sensitive, serves purpose as to control program, handling exceptions, logical operations, defining data structures etc\n",
        "- e.g. False, None, break, class, continue, def, elif, else, for, if, import, lambda, return, while etc\n",
        "\n",
        "\n",
        "4. Can keywords be used as variable names\n",
        "- Keywords cannot be used as variable names in Python. Keywords are reserved words with predefined meanings in the language, and attempting to use them as variable names will result in a syntax error.\n",
        "- Python uses keywords to recognize the structure of a program, and they are not allowed to be redefined or used for other purposes\n",
        "\n",
        "\n",
        "5. What is mutability in Python\n",
        "- It Means objects state can be modified after its creation, we can change objects value or data directly without creating new objects\n",
        "e.g. List, dictionaries\n",
        "\n",
        "\n",
        "6. Why are lists mutable, but tuples are immutable\n",
        "- Lists are mutable in Python because they are designed to support operations that modify their content after creation. This mutability allows for dynamic addition, removal, and modification of elements within the list.\n",
        "- Tuples, on the other hand, are immutable because they are intended to represent fixed collections of items. Once a tuple is created, its elements cannot be changed, added, or removed.\n",
        "This immutability provides a guarantee that the data within the tuple will remain constant throughout its lifetim\n",
        "\n",
        "\n",
        "7. What is the difference between “==” and “is” operators in Python\n",
        "- \"==\"  This operator checks if the values of two objects are equal. It compares the content or data held by the objects\n",
        "- \"is\" This operator checks if two variables refer to the same object in memory. It verifies if they have the same memory address\n",
        "\n",
        "\n",
        "8. What are logical operators in Python\n",
        "- it is used to combine or modify conditional statements, evaluating either True or Fale.\n",
        "e.g. and, or, not\n",
        "\n",
        "\n",
        "9. What is type casting in Python\n",
        "- it is process of changing variables data type.It enables you to convert values from one type to another.\n",
        "- Like input function always takes string as input, we need to type cast to int or float etc\n",
        "\n",
        "\n",
        "10. What is the difference between implicit and explicit type casting\n",
        "- Implicit and explicit type casting, also known as type conversion, are mechanisms for converting a value from one data type to another. - - Implicit type casting happens automatically by the compiler\n",
        "- while explicit type casting requires the programmer to define the conversion using specific syntax\n",
        "\n",
        "\n",
        "11. What is the purpose of conditional statements in Python\n",
        "- It is used to make decisions and execute different code blocks based on certain conditions are met. Control flow is controlled by conditional statements using dynamic inputs.\n",
        "- e.g. if, elif, else, while\n",
        "\n",
        "\n",
        "12. How does the elif statement work\n",
        "- When if condition is false and control moved to next elif statement to check if condition is true or not. also used to check multiple elif conditions rather than more ifs\n",
        "\n",
        "\n",
        "13. What is the difference between for and while loops\n",
        "- For loop is used to iterate over a sequence of items.\n",
        "- While loop is used to repeatedly execute a block of statements while a condition is true\n",
        "\n",
        "\n",
        "14. Describe a scenario where a while loop is more suitable than a for loop.\n",
        "- for loops are best used when you know the number of iterations ahead of time\n",
        "- while loop is best used when you don't know the number of iterations in advance.\n",
        "Both methods can help you iterate through your code"
      ],
      "metadata": {
        "id": "y1-X6p-8Gjma"
      }
    },
    {
      "cell_type": "code",
      "source": [
        "# 1. Write a Python program to print \"Hello, World!\n",
        "print(\"Hello, World!\")"
      ],
      "metadata": {
        "colab": {
          "base_uri": "https://localhost:8080/"
        },
        "id": "mi_roZIFInYw",
        "outputId": "12092448-42cd-4961-f4c4-269132560563"
      },
      "execution_count": null,
      "outputs": [
        {
          "output_type": "stream",
          "name": "stdout",
          "text": [
            "Hello, World!\n"
          ]
        }
      ]
    },
    {
      "cell_type": "code",
      "source": [
        "#2. Write a Python program that displays your name and age\n",
        "nam=\"Ashish Chothe\"\n",
        "age=41\n",
        "print(\"My name is \",nam)\n",
        "print(\"My Age is \",age)"
      ],
      "metadata": {
        "colab": {
          "base_uri": "https://localhost:8080/"
        },
        "id": "k4t63-klIxli",
        "outputId": "e2fdbcf2-99a8-4ca9-da42-f0756f81c369"
      },
      "execution_count": null,
      "outputs": [
        {
          "output_type": "stream",
          "name": "stdout",
          "text": [
            "My name is  Ashish Chothe\n",
            "My Age is  41\n"
          ]
        }
      ]
    },
    {
      "cell_type": "code",
      "source": [
        "#3. Write code to print all the pre-defined keywords in Python using the keyword library\n",
        "help('keywords')"
      ],
      "metadata": {
        "colab": {
          "base_uri": "https://localhost:8080/"
        },
        "id": "VC6fxqNIJL5_",
        "outputId": "fee02e1a-2f48-4b94-d0ed-84cfa5d06974"
      },
      "execution_count": null,
      "outputs": [
        {
          "output_type": "stream",
          "name": "stdout",
          "text": [
            "\n",
            "Here is a list of the Python keywords.  Enter any keyword to get more help.\n",
            "\n",
            "False               class               from                or\n",
            "None                continue            global              pass\n",
            "True                def                 if                  raise\n",
            "and                 del                 import              return\n",
            "as                  elif                in                  try\n",
            "assert              else                is                  while\n",
            "async               except              lambda              with\n",
            "await               finally             nonlocal            yield\n",
            "break               for                 not                 \n",
            "\n"
          ]
        }
      ]
    },
    {
      "cell_type": "code",
      "source": [
        "#4. Write a program that checks if a given word is a Python keyword.\n",
        "import keyword\n",
        "a=\"for\"\n",
        "b=\"world\"\n",
        "if keyword.iskeyword(a):\n",
        "  print(f\"{a} is python keyword\")\n",
        "if keyword.iskeyword(b):\n",
        "  print(f\"{b} is python keyword\")\n",
        "else:\n",
        "  print(f\"{b} is not python keyword\")\n"
      ],
      "metadata": {
        "colab": {
          "base_uri": "https://localhost:8080/"
        },
        "id": "2t-Y0jajJYoY",
        "outputId": "962d1b58-6a62-49ee-c01d-d105f163a880"
      },
      "execution_count": null,
      "outputs": [
        {
          "output_type": "stream",
          "name": "stdout",
          "text": [
            "for is python keyword\n",
            "world is not python keyword\n"
          ]
        }
      ]
    },
    {
      "cell_type": "code",
      "source": [
        "# 5. Create a list and tuple in Python, and demonstrate how attempting to change an element works differently for each.\n",
        "list = [1, 2, 3]\n",
        "tuple = (4,5,6)\n",
        "\n",
        "list[1] = 29 # lists are mutable\n",
        "print(list)\n",
        "\n",
        "tuple[0] = 11 #while tuples are immutable, preventing any changes after creation. Attempting to modify a tuple element results in TypeError"
      ],
      "metadata": {
        "colab": {
          "base_uri": "https://localhost:8080/",
          "height": 211
        },
        "id": "74yR3yNoKDv6",
        "outputId": "d4af0697-16a7-4ee8-f619-329531b6dcc4"
      },
      "execution_count": null,
      "outputs": [
        {
          "output_type": "stream",
          "name": "stdout",
          "text": [
            "[1, 29, 3]\n"
          ]
        },
        {
          "output_type": "error",
          "ename": "TypeError",
          "evalue": "'tuple' object does not support item assignment",
          "traceback": [
            "\u001b[0;31m---------------------------------------------------------------------------\u001b[0m",
            "\u001b[0;31mTypeError\u001b[0m                                 Traceback (most recent call last)",
            "\u001b[0;32m<ipython-input-26-db74a0f46a5d>\u001b[0m in \u001b[0;36m<cell line: 0>\u001b[0;34m()\u001b[0m\n\u001b[1;32m      6\u001b[0m \u001b[0mprint\u001b[0m\u001b[0;34m(\u001b[0m\u001b[0mlist\u001b[0m\u001b[0;34m)\u001b[0m\u001b[0;34m\u001b[0m\u001b[0;34m\u001b[0m\u001b[0m\n\u001b[1;32m      7\u001b[0m \u001b[0;34m\u001b[0m\u001b[0m\n\u001b[0;32m----> 8\u001b[0;31m \u001b[0mtuple\u001b[0m\u001b[0;34m[\u001b[0m\u001b[0;36m0\u001b[0m\u001b[0;34m]\u001b[0m \u001b[0;34m=\u001b[0m \u001b[0;36m11\u001b[0m \u001b[0;31m#while tuples are immutable, preventing any changes after creation. Attempting to modify a tuple element results in TypeError\u001b[0m\u001b[0;34m\u001b[0m\u001b[0;34m\u001b[0m\u001b[0m\n\u001b[0m",
            "\u001b[0;31mTypeError\u001b[0m: 'tuple' object does not support item assignment"
          ]
        }
      ]
    },
    {
      "cell_type": "code",
      "source": [
        "# 6. Write a function to demonstrate the behavior of mutable and immutable arguments\n",
        "''''\n",
        "Immutable Arguments (e.g., integers):\n",
        "\n",
        "Changes inside the function create a new local copy.\n",
        "\n",
        "The original value outside remains unchanged.\n",
        "\n",
        "Mutable Arguments (e.g., lists):\n",
        "\n",
        "In-place modifications (e.g., append(), extend()) affect the original object.\n",
        "\n",
        "Reassigning the variable inside the function (e.g., mutable_arg = [5, 6]) would not change the original.\n",
        "'''\n",
        "def modify_args(immutable_arg, mutable_arg):\n",
        "    # Immutable example (e.g., int, string, tuple)\n",
        "    print(\"\\nInside function (BEFORE changes):\")\n",
        "    print(f\"Immutable: {immutable_arg}, Mutable: {mutable_arg}\")\n",
        "\n",
        "    # Attempt to modify the immutable argument\n",
        "    immutable_arg += 100  # Creates a new local variable; original remains unchanged\n",
        "\n",
        "    # Modify the mutable argument in-place\n",
        "    mutable_arg.append(4)  # Changes the original object outside the function\n",
        "\n",
        "    print(\"\\nInside function (AFTER changes):\")\n",
        "    print(f\"Immutable (local copy): {immutable_arg}, Mutable (modified): {mutable_arg}\")\n",
        "\n",
        "# Test the function\n",
        "original_immutable = 10\n",
        "original_mutable = [1, 2, 3]\n",
        "\n",
        "print(\"Outside (BEFORE function call):\")\n",
        "print(f\"Original Immutable: {original_immutable}, Original Mutable: {original_mutable}\")\n",
        "\n",
        "modify_args(original_immutable, original_mutable)\n",
        "\n",
        "print(\"\\nOutside (AFTER function call):\")\n",
        "print(f\"Original Immutable (unchanged): {original_immutable}, Original Mutable (changed): {original_mutable}\")"
      ],
      "metadata": {
        "colab": {
          "base_uri": "https://localhost:8080/"
        },
        "id": "4tYPbJMjNaEs",
        "outputId": "746ae935-c910-4bae-bdfd-2754acd900c2"
      },
      "execution_count": null,
      "outputs": [
        {
          "output_type": "stream",
          "name": "stdout",
          "text": [
            "Outside (BEFORE function call):\n",
            "Original Immutable: 10, Original Mutable: [1, 2, 3]\n",
            "\n",
            "Inside function (BEFORE changes):\n",
            "Immutable: 10, Mutable: [1, 2, 3]\n",
            "\n",
            "Inside function (AFTER changes):\n",
            "Immutable (local copy): 110, Mutable (modified): [1, 2, 3, 4]\n",
            "\n",
            "Outside (AFTER function call):\n",
            "Original Immutable (unchanged): 10, Original Mutable (changed): [1, 2, 3, 4]\n"
          ]
        }
      ]
    },
    {
      "cell_type": "code",
      "source": [
        "# 7. Write a program that performs basic arithmetic operations on two user-input numbers.\n",
        "a = float(input(\"Enter first number\"))\n",
        "b = float(input(\"Enter second number\"))\n",
        "print(f\"Multiplication of {a} * {b} = {a*b}\")"
      ],
      "metadata": {
        "colab": {
          "base_uri": "https://localhost:8080/"
        },
        "id": "E4dgHQtgOT3j",
        "outputId": "e2f07cea-f91e-48d8-aaf2-176ade5a639b"
      },
      "execution_count": null,
      "outputs": [
        {
          "output_type": "stream",
          "name": "stdout",
          "text": [
            "Enter first number11\n",
            "Enter second number15.9\n",
            "Multiplication of 11.0 * 15.9 = 174.9\n"
          ]
        }
      ]
    },
    {
      "cell_type": "code",
      "source": [
        "# 8. Write a program to demonstrate the use of logical operators.\n",
        "num=int(input(\"Enter any number\"))\n",
        "if (num % 2 == 0) and (num > 0):\n",
        "    print(\"Number is even and positive number\")\n",
        "elif (num % 2 == 0) and (num < 0):\n",
        "    print(\"Number is even and negative number\")\n",
        "elif (num % 2 !=0) and (num > 0):\n",
        "    print(\"Number is odd number and positive number\")\n",
        "else:\n",
        "    print(\"Number is odd number and negative number\")\n"
      ],
      "metadata": {
        "colab": {
          "base_uri": "https://localhost:8080/"
        },
        "id": "QYkWxEh5OUBR",
        "outputId": "aaf82528-7719-4bbd-9dd7-3b8f249eee3d"
      },
      "execution_count": null,
      "outputs": [
        {
          "output_type": "stream",
          "name": "stdout",
          "text": [
            "Enter any number-17\n",
            "Number is odd number and negative number\n"
          ]
        }
      ]
    },
    {
      "cell_type": "code",
      "source": [
        "# 9. Write a Python program to convert user input from string to integer, float, and boolean types.\n",
        "h = int(input(\"User to enter any number= \"))\n",
        "k = float(input(\"User to enter any decimal number= \"))\n",
        "l = bool(input(\"User to enter string/boolean= \"))   #if user entered nothing and hit enter... output will be False\n",
        "print(h)\n",
        "print(k)\n",
        "print(l)"
      ],
      "metadata": {
        "colab": {
          "base_uri": "https://localhost:8080/"
        },
        "id": "doA8crtZOUHw",
        "outputId": "174a4ccd-5fcc-4e19-cffa-dc3f7707d2e7"
      },
      "execution_count": null,
      "outputs": [
        {
          "output_type": "stream",
          "name": "stdout",
          "text": [
            "User to enter any number= 5\n",
            "User to enter any decimal number= 8\n",
            "User to enter string/boolean= \n",
            "5\n",
            "8.0\n",
            "False\n"
          ]
        }
      ]
    },
    {
      "cell_type": "code",
      "source": [
        "# 10. Write code to demonstrate type casting with list elements.\n",
        "my_list = ['1', '2', '3', '4', '5']\n",
        "print(\"Original list:\", my_list)\n",
        "print(\"Type of elements in original list:\", type(my_list[0]))\n",
        "\n",
        "int_list = [int(x) for x in my_list]\n",
        "print(\"List after casting to integers:\", int_list)\n",
        "print(\"Type of elements in integer list:\", type(int_list[0]))\n",
        "\n",
        "float_list = [float(x) for x in my_list]\n",
        "print(\"List after casting to float:\", float_list)\n",
        "print(\"Type of elements in float list:\", type(float_list[0]))\n",
        "\n",
        "str_list = [str(i) for i in range(1,6)]\n",
        "print(\"List after casting integers to string:\", str_list)\n",
        "print(\"Type of elements in string list:\", type(str_list[0]))"
      ],
      "metadata": {
        "colab": {
          "base_uri": "https://localhost:8080/"
        },
        "id": "9iC9DW11OUKO",
        "outputId": "266b6ea6-f502-44d9-d3f0-85e682e6653a"
      },
      "execution_count": null,
      "outputs": [
        {
          "output_type": "stream",
          "name": "stdout",
          "text": [
            "Original list: ['1', '2', '3', '4', '5']\n",
            "Type of elements in original list: <class 'str'>\n",
            "List after casting to integers: [1, 2, 3, 4, 5]\n",
            "Type of elements in integer list: <class 'int'>\n",
            "List after casting to float: [1.0, 2.0, 3.0, 4.0, 5.0]\n",
            "Type of elements in float list: <class 'float'>\n",
            "List after casting integers to string: ['1', '2', '3', '4', '5']\n",
            "Type of elements in string list: <class 'str'>\n"
          ]
        }
      ]
    },
    {
      "cell_type": "code",
      "source": [
        "# 11. Write a program that checks if a number is positive, negative, or zero.\n",
        "h = int(input(\"User to enter any number= \"))\n",
        "if h > 0:\n",
        "  print(f\"Entered number {h} is positive number\")\n",
        "elif h < 0:\n",
        "  print(f\"Entered number {h} is negative number\")\n",
        "else:\n",
        "  print(f\"Entered number {h} is zero\")"
      ],
      "metadata": {
        "colab": {
          "base_uri": "https://localhost:8080/"
        },
        "id": "iNkavrT_Ofnv",
        "outputId": "0fa2d147-96fe-42fd-c45e-cf945c08f026"
      },
      "execution_count": null,
      "outputs": [
        {
          "output_type": "stream",
          "name": "stdout",
          "text": [
            "User to enter any number= -2\n",
            "Entered number -2 is negative number\n"
          ]
        }
      ]
    },
    {
      "cell_type": "code",
      "source": [
        "# 12. Write a for loop to print numbers from 1 to 10.\n",
        "for i in range(10):\n",
        "  i=i+1\n",
        "  print(f\"Number is {i}\")"
      ],
      "metadata": {
        "colab": {
          "base_uri": "https://localhost:8080/"
        },
        "id": "-ruE6im1OfqQ",
        "outputId": "bab4668c-6443-405e-8bdc-a8f2eabbbcdc"
      },
      "execution_count": null,
      "outputs": [
        {
          "output_type": "stream",
          "name": "stdout",
          "text": [
            "Number is 1\n",
            "Number is 2\n",
            "Number is 3\n",
            "Number is 4\n",
            "Number is 5\n",
            "Number is 6\n",
            "Number is 7\n",
            "Number is 8\n",
            "Number is 9\n",
            "Number is 10\n"
          ]
        }
      ]
    },
    {
      "cell_type": "code",
      "source": [
        "# 13. Write a Python program to find the sum of all even numbers between 1 and 50.\n",
        "sum = 0\n",
        "for i in range(51):\n",
        "  if i % 2 ==0:\n",
        "    sum = sum + i\n",
        "print(sum)"
      ],
      "metadata": {
        "colab": {
          "base_uri": "https://localhost:8080/"
        },
        "id": "UYdO09YEOftJ",
        "outputId": "832c30f1-b0f5-4541-f36c-30ad401b4f07"
      },
      "execution_count": null,
      "outputs": [
        {
          "output_type": "stream",
          "name": "stdout",
          "text": [
            "650\n"
          ]
        }
      ]
    },
    {
      "cell_type": "code",
      "source": [
        "# 14. Write a program to reverse a string using a while loop.\n",
        "a = \"ashish\"\n",
        "b= len(a)\n",
        "i=1\n",
        "while b > 0:\n",
        "  print(f\"{a[-i]}\", end=\"\")\n",
        "  i=i+1\n",
        "  if(i>b):\n",
        "    break\n"
      ],
      "metadata": {
        "colab": {
          "base_uri": "https://localhost:8080/"
        },
        "id": "Huus-MzGOfv0",
        "outputId": "d4ad047b-9b3d-496d-9e98-d31571285731"
      },
      "execution_count": null,
      "outputs": [
        {
          "output_type": "stream",
          "name": "stdout",
          "text": [
            "hsihsa"
          ]
        }
      ]
    },
    {
      "cell_type": "code",
      "source": [
        "# 15. Write a Python program to calculate the factorial of a number provided by the user using a while loop.\n",
        "fact = int(input(\"Please enter number to calculate factorial\"))\n",
        "ans=fact\n",
        "while fact-1:\n",
        "  if fact<1:\n",
        "    break\n",
        "  ans=ans*(fact-1)\n",
        "  fact=fact-1\n",
        "print(ans)\n"
      ],
      "metadata": {
        "id": "zlpQ3KCuOfyM",
        "colab": {
          "base_uri": "https://localhost:8080/"
        },
        "outputId": "b58c4af8-0a8b-4610-ecba-28267d6c82f5"
      },
      "execution_count": 84,
      "outputs": [
        {
          "output_type": "stream",
          "name": "stdout",
          "text": [
            "Please enter number to calculate factorial7\n",
            "5040\n"
          ]
        }
      ]
    },
    {
      "cell_type": "code",
      "source": [],
      "metadata": {
        "id": "d44VEAqyeLWs"
      },
      "execution_count": null,
      "outputs": []
    }
  ]
}